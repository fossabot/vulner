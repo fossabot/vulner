{
 "cells": [
  {
   "cell_type": "markdown",
   "metadata": {},
   "source": [
    "\n",
    "# Publish data to Watson IoT Platform\n",
    "\n",
    "This notebook was created to accompany the Streams fows tutorial \"Use data from IoT devices in Streams flows\". However, it is also just a simple example of using the [ibmiotf API](https://github.com/ibm-watson-iot/iot-python) to send data to the Watson IoT Platform. Once received by the Watson IoT Platform, the data can be used by any application.  \n",
    "For sending streaming data from a real edge device such as a Raspberry Pi or smartphone, consider using [Apache Edgent](https://edgent.apache.org), which is a micro kernel runtime designed to run on edge devices.\n",
    "\n",
    "## Prerequisites\n",
    "\n",
    "- You need an instance of the [Watson IoT Platform service](https://console.bluemix.net/catalog/services/internet-of-things-platform) in the IBM Cloud.\n",
    "- Follow the steps in the video, or the [instructions in the IoT platform documentation](https://console.bluemix.net/docs/services/IoT/iotplatform_task.html#iotplatform_subtask1) to register a device.  You should have the following information:  device type, id, and authentication token:\n",
    "![device credentials](https://developer.ibm.com/streamsdev/wp-content/uploads/sites/15/2018/03/device_registered-1.png)\n"
   ]
  },
  {
   "cell_type": "markdown",
   "metadata": {},
   "source": [
    "## Connect to the Watson IoT Platform\n",
    "After following the steps above, you should have the following informaiton: device id, organization, type and authentication token, as shown in the screenshot above. \n",
    "Where indicated, fill in the required values in the cell below."
   ]
  },
  {
   "cell_type": "code",
   "execution_count": 12,
   "metadata": {},
   "outputs": [
    {
     "name": "stderr",
     "output_type": "stream",
     "text": [
      "2018-03-08 16:37:38,614   ibmiotf.device.Client      INFO    Connected successfully: d:jaf9af:Smart_Meters:smart_meter_1\n"
     ]
    }
   ],
   "source": [
    "import ibmiotf.device\n",
    "\n",
    "#Before we can send data, we need to authenticate using the credentials for the device we registered \n",
    "#Paste credentials here\n",
    "organization = \"myorg\" # Your organization, available from Top Right corner of IoT platform dashboard\n",
    "deviceId = \"device__1\" # id of device you registered\n",
    "authToken = \"device_token\" #authentication token you chose\n",
    "deviceType=\"Smart_Meters\" #device type \n",
    "\n",
    "options = {\n",
    "    \"org\": organization,\n",
    "    \"type\": deviceType,\n",
    "    \"id\": deviceId,\n",
    "    \"auth-method\": \"token\", # leave as is\n",
    "    \"auth-token\": authToken,\n",
    "    \"clean-session\": True\n",
    "}\n",
    "#Create the client object\n",
    "client = ibmiotf.device.Client(options)\n",
    "client.connect()"
   ]
  },
  {
   "cell_type": "markdown",
   "metadata": {},
   "source": [
    "## Send generated usage data\n",
    "\n",
    "Although we only registered 1 device, this code will simulate readings from about 100 different devices by changing the meter id. \n",
    "To register multiple devices, you can repeat the same steps described above, or register multiple devices programmatically using the [Watson IoT Platform REST API](https://docs.internetofthings.ibmcloud.com/apis/swagger/v0002/org-admin.html#!/Device_Bulk_Configuration)\n",
    "\n",
    "These device IDs are in the format *iot_device_1XX*.  These ids are also in the DB2 database.\n",
    "The loop runs for 15 minutes. Change the loop count to run for longer.\n",
    "One device, with id `iot_device_182` has much higher usage readings in order to generate an alert in Streams flows.  This i"
   ]
  },
  {
   "cell_type": "code",
   "execution_count": null,
   "metadata": {},
   "outputs": [
    {
     "name": "stdout",
     "output_type": "stream",
     "text": [
      "Sending data to Watson IoT Platform\n"
     ]
    }
   ],
   "source": [
    "import time\n",
    "from random import random\n",
    "from datetime import datetime, timezone,timedelta\n",
    "\n",
    "# Peak hours (after 9am and before 6pm) have higher usage, so this code just \n",
    "# generates a higher reading if the current time is within peak hours\n",
    "\n",
    "def compute_usage_by_time(curtime, high_user):\n",
    "    \n",
    "    if curtime.hour >= 9 and curtime.hour < 18:\n",
    "        #at home user has more usage during day time hours\n",
    "        if high_user :\n",
    "            return random() * 40.75\n",
    "        else:\n",
    "            return  random() * 0.3\n",
    "    elif curtime.hour < 5:\n",
    "        return random() * 0.5\n",
    "    else:\n",
    "        return random() *0.3\n",
    "\n",
    "# Generate a device id for one of the 100 simulated devices \n",
    "def get_device_id(ct):\n",
    "    if (ct % 10) == 0:\n",
    "        return \"iot_device_178\"\n",
    "    return \"iot_device_1\" + str(random()*100)[-2:]\n",
    "\n",
    "#simple loop that sends  some simulated data for an hour (change the loop count for more time.)\n",
    "\n",
    "print(\"Sending data to Watson IoT Platform\")\n",
    "\n",
    "for i in range(144600):\n",
    "    current_time = datetime.now()\n",
    "    d_id = get_device_id(i)\n",
    "\n",
    "    normal_usage = d_id == \"iot_device_178\"\n",
    "    \n",
    "    reading ={'device_id' : d_id,  \n",
    "             'serial_number':\"XF438YQ\", \n",
    "             'firmware_version':\"2.1.5_20180114\", \n",
    "             \"usage_date\":current_time.strftime(\"%Y-%m-%d %H:%M:%S\")\n",
    "    } \n",
    "    \n",
    "    reading[\"usage_in_kwH\"] = compute_usage_by_time(current_time, normal_usage)\n",
    "    \n",
    "    #To generate data in different hours, we also send a reading in a different time zone PST\n",
    "    #This gives more variety to the data without having to run for a long time\n",
    "    reading_pst = dict(reading)\n",
    "    pst_time = datetime.now(timezone(timedelta(hours=-9)))\n",
    "    reading_pst[\"usage_period_end_time\"] = pst_time.strftime(\"%Y-%m-%d %H:%M:%S\")\n",
    "    # reading_pst has a different reading value for that time of day\n",
    "\n",
    "    reading_pst[\"usage_in_kwH\"] = compute_usage_by_time(pst_time, normal_usage)\n",
    "\n",
    "    time.sleep(0.25)\n",
    "    \n",
    "    #send the reading to the platform using the client api\n",
    "    client.publishEvent(event=\"meter_readings\", msgFormat=\"json\", data=reading)\n",,
    "    client.publishEvent(event=\"meter_readings\", msgFormat=\"json\", data=reading_pst)\n",
    "\n",
    "\n",
    "print(\"Done\")\n"
   ]
  },
  {
   "cell_type": "markdown",
   "metadata": {},
   "source": [
    "### Disconnect"
   ]
  },
  {
   "cell_type": "code",
   "execution_count": 11,
   "metadata": {},
   "outputs": [
    {
     "name": "stderr",
     "output_type": "stream",
     "text": [
      "2018-03-08 16:37:31,423   ibmiotf.device.Client      INFO    Closed connection to the IBM Watson IoT Platform\n"
     ]
    }
   ],
   "source": [
    "client.disconnect()"
   ]
  },
  {
   "cell_type": "markdown",
   "metadata": {},
   "source": [
    "### Author\n",
    "\n",
    "**Natasha D'Silva** is a developer advocate at IBM Canada who specializes in streaming technology."
   ]
  },
  {
   "cell_type": "markdown",
   "metadata": {},
   "source": [
    "Copyright © IBM Corp. 2018. This notebook and its source code are released under the terms of the Apache 2.0 License."
   ]
  }
 ],
 "metadata": {
  "kernelspec": {
   "display_name": "Python 3.5 with Spark 2.1",
   "language": "python",
   "name": "python3-spark21"
  },
  "language_info": {
   "codemirror_mode": {
    "name": "ipython",
    "version": 3
   },
   "file_extension": ".py",
   "mimetype": "text/x-python",
   "name": "python",
   "nbconvert_exporter": "python",
   "pygments_lexer": "ipython3",
   "version": "3.5.4"
  }
 },
 "nbformat": 4,
 "nbformat_minor": 1
}
