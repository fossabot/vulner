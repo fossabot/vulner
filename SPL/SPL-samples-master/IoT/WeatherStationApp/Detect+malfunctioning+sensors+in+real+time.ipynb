{
 "cells": [
  {
   "cell_type": "markdown",
   "metadata": {},
   "source": [
    "# Detect malfunctioning sensors in real time using Streaming Analytics and Python\n",
    "\n",
    "\n",
    "In this notebook, you will create an application that receives weather data from simulated weather stations and then detects if any of those stations are malfunctioning.  This is done by comparing the temperature from each station with the average temperature from all the other stations in the same region. If a station's reading is considered to be an outlier, then it is flagged as potentially malfunctioning.\n",
    "\n",
    "The data is visualized on a map, and malfunctioning stations are shown as red, as in the image below. Note that the readings are updated in real time.\n",
    "<img src=\"https://raw.githubusercontent.com/IBMStreams/samples/master/IoT/WeatherStationApp/img/dsx-weather-app.gif\"/>\n",
    "\n",
    "## Notebook has moved\n",
    "This notebook is now [hosted on IBM Watson Studio](https://dataplatform.ibm.com/exchange/public/entry/view/ec0aa15c6ab928b9b43ac0109d4395f1)."
   ]
  }
  {
   "cell_type": "markdown",
   "metadata": {},
   "source": [
    "Copyright © 2017 IBM. This notebook and its source code are released under the terms of the Apache License."
   ]
  }
 ],
 "metadata": {
  "kernelspec": {
   "display_name": "Python 3.5 (Experimental) with Spark 2.0",
   "language": "python",
   "name": "python3-spark20"
  },
  "language_info": {
   "codemirror_mode": {
    "name": "ipython",
    "version": 3
   },
   "file_extension": ".py",
   "mimetype": "text/x-python",
   "name": "python",
   "nbconvert_exporter": "python",
   "pygments_lexer": "ipython3",
   "version": "3.5.2"
  }
 },
 "nbformat": 4,
 "nbformat_minor": 1
}
