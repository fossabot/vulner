{
 "cells": [
  {
   "cell_type": "markdown",
   "metadata": {},
   "source": [
    "# Process events from the Watson IoT Platform in a Streams Python application\n",
    "\n",
    "If you have data being sent from an Internet of Things device to the Watson IoT platform, you can perform advanced analytics on such data using Python and the Streaming Analytics service.  This notebook shows a simple Python Streams application that connects to the Watson IoT platform to retrieve data sent there by an Edgent application.\n",
    "\n",
    "\n",
    "UPDATE: This notebook has been updated and is [**published on Watson Studio**](https://dataplatform.cloud.ibm.com/exchange/public/entry/view/ec0aa15c6ab928b9b43ac0109d9b6a73).\n"
   ]
  }
 ],
 "metadata": {
  "anaconda-cloud": {},
  "kernelspec": {
   "display_name": "Python 3.5 (Experimental) with Spark 2.0",
   "language": "python",
   "name": "python3-spark20"
  },
  "language_info": {
   "codemirror_mode": {
    "name": "ipython",
    "version": 3
   },
   "file_extension": ".py",
   "mimetype": "text/x-python",
   "name": "python",
   "nbconvert_exporter": "python",
   "pygments_lexer": "ipython3",
   "version": "3.5.2"
  }
 },
 "nbformat": 4,
 "nbformat_minor": 1
}
